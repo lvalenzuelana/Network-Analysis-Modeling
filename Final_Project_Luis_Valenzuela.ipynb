{
  "nbformat": 4,
  "nbformat_minor": 0,
  "metadata": {
    "colab": {
      "name": "Final Project - Luis Valenzuela.ipynb",
      "provenance": [],
      "collapsed_sections": [
        "ZSuDaeh5tgz-",
        "-_9420m5veSu",
        "JnyT7JMc02pI",
        "Ge2VkJ1p1Kzj",
        "RCgp--oJv22P",
        "b0FI58vSxUf_",
        "1M-DS3Te0eeK",
        "Tz7LEcW4LhJm",
        "3DC7h5y3TyWS",
        "WGPbhfadUwQB",
        "irbjJd8JVK6O",
        "EsMPCKX3V2TO",
        "AY3KjGl4WBMc",
        "WcMMKj_zWIZE",
        "8ZOFbJiQWNkT",
        "PVJROCZmWva8",
        "_WEJ4CQoXpu3",
        "eiXjPY-SeuF5",
        "38Evc5m75NJJ",
        "ZgdICyJp-reF",
        "TpMJvSCiAuoB"
      ]
    },
    "kernelspec": {
      "name": "python3",
      "display_name": "Python 3"
    },
    "language_info": {
      "name": "python"
    },
    "accelerator": "TPU"
  },
  "cells": [
    {
      "cell_type": "markdown",
      "source": [
        "# Homework - Luis Enrique Valenzuela Navarro"
      ],
      "metadata": {
        "id": "JCDD8tLXlTm8"
      }
    },
    {
      "cell_type": "code",
      "execution_count": null,
      "metadata": {
        "colab": {
          "base_uri": "https://localhost:8080/"
        },
        "id": "ZZMSQhANLAw0",
        "outputId": "1ac7d5ea-6f0e-4e45-811e-d4be8402b69e"
      },
      "outputs": [
        {
          "output_type": "stream",
          "name": "stdout",
          "text": [
            "Drive already mounted at /content/drive; to attempt to forcibly remount, call drive.mount(\"/content/drive\", force_remount=True).\n"
          ]
        }
      ],
      "source": [
        "from google.colab import drive\n",
        "drive.mount('/content/drive')"
      ]
    },
    {
      "cell_type": "code",
      "source": [
        "import networkx as nx\n",
        "import matplotlib.pylab as plt\n",
        "import os\n",
        "import random\n",
        "import numpy as np\n",
        "from random import randint\n",
        "%matplotlib inline\n",
        "import itertools \n",
        "from itertools import permutations\n",
        "from sklearn.metrics import mean_absolute_error\n",
        "import math\n",
        "from random import seed\n",
        "from random import random  "
      ],
      "metadata": {
        "id": "FZ19Ce9aOvUG"
      },
      "execution_count": 193,
      "outputs": []
    },
    {
      "cell_type": "markdown",
      "source": [
        "We import the Facebook 100 dataset files from our Google Drive."
      ],
      "metadata": {
        "id": "0stdRRGmRpQp"
      }
    },
    {
      "cell_type": "code",
      "source": [
        "path = '/content/drive/MyDrive/Network Analysis & Modeling/fb100/'\n",
        "files = os.listdir(path)\n",
        "nfiles = len(files)"
      ],
      "metadata": {
        "id": "73JI46ljmCJl"
      },
      "execution_count": null,
      "outputs": []
    },
    {
      "cell_type": "markdown",
      "source": [
        "##Question 2: Social Network Analysis with the Facebook100 Dataset"
      ],
      "metadata": {
        "id": "ZSuDaeh5tgz-"
      }
    },
    {
      "cell_type": "markdown",
      "source": [
        "We import Caltech, MIT, Johns Hopkins graphs from the Facebook dataset files from our Google Drive."
      ],
      "metadata": {
        "id": "T85fAfcgt1zS"
      }
    },
    {
      "cell_type": "code",
      "source": [
        "Caltech = nx.read_graphml(path + \"Caltech36.graphml\")\n",
        "MIT = nx.read_graphml(path + \"MIT8.graphml\")\n",
        "JHopking = nx.read_graphml(path + \"Johns Hopkins55.graphml\")"
      ],
      "metadata": {
        "id": "lInYXthlupdd"
      },
      "execution_count": 179,
      "outputs": []
    },
    {
      "cell_type": "markdown",
      "source": [
        "### deg_graph(G):"
      ],
      "metadata": {
        "id": "-_9420m5veSu"
      }
    },
    {
      "cell_type": "markdown",
      "source": [
        "The following function plots degrees as a function of number of nodes, obtaining a list with the degrees of each node to be able to be graphed. It receives as parameters a graph that belongs to the Facebook 100 Dataset."
      ],
      "metadata": {
        "id": "aLf0sDeMvkjk"
      }
    },
    {
      "cell_type": "code",
      "source": [
        "def deg_graph(G):\n",
        "  degree_sequence = sorted([d for n, d in G.degree()], reverse=True)\n",
        "\n",
        "  fig = plt.figure(\"Degree\", figsize=(10, 10))\n",
        "  axgrid = fig.add_gridspec(5, 4)\n",
        "\n",
        "  ax2 = fig.add_subplot(axgrid[3:, 2:])\n",
        "  ax2.bar(*np.unique(degree_sequence, return_counts=True))\n",
        "  ax2.set_title(\"Degree histogram\")\n",
        "  ax2.set_xlabel(\"Degree\")\n",
        "  ax2.set_ylabel(\"# of Nodes\")\n",
        "\n",
        "  fig.tight_layout()\n",
        "  plt.show()"
      ],
      "metadata": {
        "id": "qHofMLbXvp3P"
      },
      "execution_count": 180,
      "outputs": []
    },
    {
      "cell_type": "markdown",
      "source": [
        "### plt_degree(G)"
      ],
      "metadata": {
        "id": "JnyT7JMc02pI"
      }
    },
    {
      "cell_type": "markdown",
      "source": [
        "The following function return a list of the degree of all the nodes. It receives as parameters a graph that belongs to the Facebook 100 Dataset."
      ],
      "metadata": {
        "id": "GJ1XifY_1EIK"
      }
    },
    {
      "cell_type": "code",
      "source": [
        "def plt_degree(G):\n",
        "  return [val for (node, val) in G.degree]"
      ],
      "metadata": {
        "id": "0zZog9dX1IAo"
      },
      "execution_count": 187,
      "outputs": []
    },
    {
      "cell_type": "markdown",
      "source": [
        "### plt_clustering(G)"
      ],
      "metadata": {
        "id": "Ge2VkJ1p1Kzj"
      }
    },
    {
      "cell_type": "markdown",
      "source": [
        "The following function return a list of clustering coefficient all the nodes. It receives as parameters a graph that belongs to the Facebook 100 Dataset."
      ],
      "metadata": {
        "id": "AAgVFM-W1Wp5"
      }
    },
    {
      "cell_type": "code",
      "source": [
        "def plt_clustering(G):\n",
        "  return list(nx.clustering(G).values())"
      ],
      "metadata": {
        "id": "FoJZctyq1NU1"
      },
      "execution_count": 188,
      "outputs": []
    },
    {
      "cell_type": "markdown",
      "source": [
        "### (a) For these three networks plot the degree distribution for each of the three networks that you downloaded. What are you able to conclude from these degree distributions?"
      ],
      "metadata": {
        "id": "RCgp--oJv22P"
      }
    },
    {
      "cell_type": "markdown",
      "source": [
        "**Caltech**"
      ],
      "metadata": {
        "id": "9E9MjazJv85g"
      }
    },
    {
      "cell_type": "code",
      "source": [
        "deg_graph(Caltech)"
      ],
      "metadata": {
        "colab": {
          "base_uri": "https://localhost:8080/",
          "height": 329
        },
        "id": "heH-oQjAwEn8",
        "outputId": "267e86b2-5fda-47dc-90f8-1175c9f70334"
      },
      "execution_count": 181,
      "outputs": [
        {
          "output_type": "display_data",
          "data": {
            "image/png": "[encoded data removed]",
            "text/plain": [
              "<Figure size 720x720 with 1 Axes>"
            ]
          },
          "metadata": {
            "needs_background": "light"
          }
        }
      ]
    },
    {
      "cell_type": "markdown",
      "source": [
        "**MIT**"
      ],
      "metadata": {
        "id": "yfB431IewMdv"
      }
    },
    {
      "cell_type": "code",
      "source": [
        "deg_graph(MIT)"
      ],
      "metadata": {
        "colab": {
          "base_uri": "https://localhost:8080/",
          "height": 329
        },
        "id": "o3M3kGY1wQ8c",
        "outputId": "839dd876-dcc0-4d05-f37f-f1a9291145e6"
      },
      "execution_count": 182,
      "outputs": [
        {
          "output_type": "display_data",
          "data": {
            "image/png": "[encoded data removed]",
            "text/plain": [
              "<Figure size 720x720 with 1 Axes>"
            ]
          },
          "metadata": {
            "needs_background": "light"
          }
        }
      ]
    },
    {
      "cell_type": "markdown",
      "source": [
        "**Johns Hopkins**"
      ],
      "metadata": {
        "id": "heSEKPoowX4S"
      }
    },
    {
      "cell_type": "code",
      "source": [
        "deg_graph(JHopking)"
      ],
      "metadata": {
        "colab": {
          "base_uri": "https://localhost:8080/",
          "height": 329
        },
        "id": "q7JMlyiMwej6",
        "outputId": "19a9aaef-db53-413e-87d8-96552e66729c"
      },
      "execution_count": 183,
      "outputs": [
        {
          "output_type": "display_data",
          "data": {
            "image/png": "[encoded data removed]",
            "text/plain": [
              "<Figure size 720x720 with 1 Axes>"
            ]
          },
          "metadata": {
            "needs_background": "light"
          }
        }
      ]
    },
    {
      "cell_type": "markdown",
      "source": [
        "We can see through the graphs that there is a great variety of students with many connections, but these connections are of low degree. This may be because they are new students to the network and may not have as many friends, or they may be new students who do not know anyone and therefore do not have as many connections."
      ],
      "metadata": {
        "id": "xf-ifE8TxNHS"
      }
    },
    {
      "cell_type": "markdown",
      "source": [
        "### (b) Compute the global clustering coefficient and mean local clustering coefficient for each of the two networks. In addition compute the edge density of each network. Should either of these networks be construed as sparse?"
      ],
      "metadata": {
        "id": "b0FI58vSxUf_"
      }
    },
    {
      "cell_type": "markdown",
      "source": [
        "**Global Clustering**: The next code calculates graph transitivity, the fraction of all possible triangles present in the graph received as parameter.\n",
        "\n"
      ],
      "metadata": {
        "id": "tXikmzCgxcLM"
      }
    },
    {
      "cell_type": "code",
      "source": [
        "GCCaltech = nx.transitivity(Caltech)\n",
        "GCMIT = nx.transitivity(MIT)\n",
        "GCJHopking = nx.transitivity(JHopking)\n",
        "\n",
        "print('Global clustering of Caltech: ', GCCaltech)\n",
        "print('Global clustering of MIT: ', GCMIT)\n",
        "print('Global clustering of John Hopkins: ', GCJHopking)"
      ],
      "metadata": {
        "colab": {
          "base_uri": "https://localhost:8080/"
        },
        "id": "uceIGgZ3yBl7",
        "outputId": "f6183fb8-d370-48c2-9a0e-b9f1be43e14f"
      },
      "execution_count": 184,
      "outputs": [
        {
          "output_type": "stream",
          "name": "stdout",
          "text": [
            "Global clustering of Caltech:  0.2912826901150874\n",
            "Global clustering of MIT:  0.18028845093502427\n",
            "Global clustering of John Hopkins:  0.19316123901594015\n"
          ]
        }
      ]
    },
    {
      "cell_type": "markdown",
      "source": [
        "**Mean Local Clustering**: The next code calculates the average clustering coefficient for the graph received as parameter."
      ],
      "metadata": {
        "id": "OioWwGnzySe5"
      }
    },
    {
      "cell_type": "code",
      "source": [
        "MLCCaltech = nx.average_clustering(Caltech)\n",
        "MLCMIT = nx.average_clustering(MIT)\n",
        "MLCJHopking = nx.average_clustering(JHopking)\n",
        "\n",
        "print('Mean local clustering of Caltech: ', MLCCaltech)\n",
        "print('Mean local clustering of MIT: ', MLCMIT)\n",
        "print('Mean local clustering of John Hopkins: ', MLCJHopking)"
      ],
      "metadata": {
        "colab": {
          "base_uri": "https://localhost:8080/"
        },
        "id": "LN4n-LdXycN3",
        "outputId": "5644ff0c-8b2c-489a-956f-01c581e22d6b"
      },
      "execution_count": 185,
      "outputs": [
        {
          "output_type": "stream",
          "name": "stdout",
          "text": [
            "Mean local clustering of Caltech:  0.40929439048517247\n",
            "Mean local clustering of MIT:  0.2712187419501315\n",
            "Mean local clustering of John Hopkins:  0.26839307371293525\n"
          ]
        }
      ]
    },
    {
      "cell_type": "markdown",
      "source": [
        "**Edge Density**: The next code calculates the density for the graph received as parameter."
      ],
      "metadata": {
        "id": "BS_BAFZLyqZI"
      }
    },
    {
      "cell_type": "code",
      "source": [
        "EDCaltech = nx.density(Caltech)\n",
        "EDMIT = nx.density(MIT)\n",
        "EDJHopking = nx.density(JHopking)\n",
        "\n",
        "print('Edge Density of Caltech: ', EDCaltech)\n",
        "print('Edge Density of MIT: ', EDMIT)\n",
        "print('Edge Density of John Hopkins: ', EDJHopking)"
      ],
      "metadata": {
        "colab": {
          "base_uri": "https://localhost:8080/"
        },
        "id": "TCUuY7dkyyf6",
        "outputId": "8e88d5ee-3abe-4019-d63b-d6b2acd821de"
      },
      "execution_count": 186,
      "outputs": [
        {
          "output_type": "stream",
          "name": "stdout",
          "text": [
            "Edge Density of Caltech:  0.05640442132639792\n",
            "Edge Density of MIT:  0.012118119495041378\n",
            "Edge Density of John Hopkins:  0.013910200162372396\n"
          ]
        }
      ]
    },
    {
      "cell_type": "markdown",
      "source": [
        "Yes, I consider them as sparse. The values obtained in Global Clustering, Mean Local Clustering and Edge Density show us a low interconnection between the nodes. Which makes sense with the statement made in the previous question."
      ],
      "metadata": {
        "id": "h2j_7FxtznGB"
      }
    },
    {
      "cell_type": "markdown",
      "source": [
        "### (c) For each network, also draw a scatter plot of the degree versus local clustering coefficient. Based on these calculations as well as your previous ones, are you able to draw any conclusions about any similarities or differences between the tree networks? What other observations can you make?\n"
      ],
      "metadata": {
        "id": "1M-DS3Te0eeK"
      }
    },
    {
      "cell_type": "markdown",
      "source": [
        "**Caltech**"
      ],
      "metadata": {
        "id": "sa5p9bFD1edK"
      }
    },
    {
      "cell_type": "code",
      "source": [
        "plt.xlabel(r\"Degree\")\n",
        "plt.ylabel(r\"Local clustering\")\n",
        "\n",
        "plt.plot(plt_degree(Caltech), plt_clustering(Caltech),\"*\", color='black');"
      ],
      "metadata": {
        "colab": {
          "base_uri": "https://localhost:8080/",
          "height": 279
        },
        "id": "IS8yaAp61kYq",
        "outputId": "22d89cbc-de35-4960-a21d-5628bd30c21c"
      },
      "execution_count": 189,
      "outputs": [
        {
          "output_type": "display_data",
          "data": {
            "image/png": "[encoded data removed]",
            "text/plain": [
              "<Figure size 432x288 with 1 Axes>"
            ]
          },
          "metadata": {
            "needs_background": "light"
          }
        }
      ]
    },
    {
      "cell_type": "markdown",
      "source": [
        "**MIT**"
      ],
      "metadata": {
        "id": "w-Mxhfid1yMZ"
      }
    },
    {
      "cell_type": "code",
      "source": [
        "plt.xlabel(r\"Degree\")\n",
        "plt.ylabel(r\"Local clustering\")\n",
        "\n",
        "plt.plot(plt_degree(MIT), plt_clustering(MIT),'*', color='red');"
      ],
      "metadata": {
        "colab": {
          "base_uri": "https://localhost:8080/",
          "height": 279
        },
        "id": "pkZ6aI2L1zma",
        "outputId": "0ef75fd6-db44-4e7e-fa84-d35321116d9c"
      },
      "execution_count": 190,
      "outputs": [
        {
          "output_type": "display_data",
          "data": {
            "image/png": "[encoded data removed]",
            "text/plain": [
              "<Figure size 432x288 with 1 Axes>"
            ]
          },
          "metadata": {
            "needs_background": "light"
          }
        }
      ]
    },
    {
      "cell_type": "markdown",
      "source": [
        "**Johns Hopkins**"
      ],
      "metadata": {
        "id": "OrxG7t2e2AOi"
      }
    },
    {
      "cell_type": "code",
      "source": [
        "plt.xlabel(r\"Degree\")\n",
        "plt.ylabel(r\"Local clustering\")\n",
        "\n",
        "plt.plot(plt_degree(JHopking), plt_clustering(JHopking),'*', color='red');"
      ],
      "metadata": {
        "colab": {
          "base_uri": "https://localhost:8080/",
          "height": 279
        },
        "id": "fadaUYJR2BYw",
        "outputId": "5d6337da-494f-4910-ddb4-2be0c44cebf0"
      },
      "execution_count": 191,
      "outputs": [
        {
          "output_type": "display_data",
          "data": {
            "image/png": "[encoded data removed]",
            "text/plain": [
              "<Figure size 432x288 with 1 Axes>"
            ]
          },
          "metadata": {
            "needs_background": "light"
          }
        }
      ]
    },
    {
      "cell_type": "markdown",
      "source": [
        "We can observe in the three graphs that the nodes are interconnected mostly in low degrees. This reaffirms the hypothesis raised in question (a). If we look at MIT and John Hopkins we see that Local Clustering decreases exponentially as we increase the degree. This means that very few nodes in the network had large connections. A similar behavior is observed in Caltech so we could see that the nodes with the highest degree do not belong to a specific cluster. These people must be very popular in the network and that is why they cannot be grouped in a cluster."
      ],
      "metadata": {
        "id": "IDlfNIKS2LT5"
      }
    },
    {
      "cell_type": "markdown",
      "source": [
        "## Question 3: Social Network Analysis with the Facebook100 Dataset\n",
        "\n",
        "\n"
      ],
      "metadata": {
        "id": "Tz7LEcW4LhJm"
      }
    },
    {
      "cell_type": "markdown",
      "source": [
        "By resource topic, we selected 20 files that belong to the Facebook 100 Dataset.\n",
        "\n"
      ],
      "metadata": {
        "id": "M59h6Km0R5cp"
      }
    },
    {
      "cell_type": "code",
      "source": [
        "Gs = []\n",
        "for _ in range(20):\n",
        " Gs.append(None)\n",
        "cont = 0\n",
        "for _ in range (20):\n",
        "  ruta = path + files[cont]\n",
        "  print(ruta)\n",
        "  Gs[cont] = nx.read_graphml(ruta)\n",
        "  cont += 1\n"
      ],
      "metadata": {
        "colab": {
          "base_uri": "https://localhost:8080/"
        },
        "id": "hD33DogWNgYt",
        "outputId": "7402bf76-5d31-45a2-a381-2a8b68501209"
      },
      "execution_count": 163,
      "outputs": [
        {
          "output_type": "stream",
          "name": "stdout",
          "text": [
            "/content/drive/MyDrive/Network Analysis & Modeling/fb100/Villanova62.graphml\n",
            "/content/drive/MyDrive/Network Analysis & Modeling/fb100/UCLA26.graphml\n",
            "/content/drive/MyDrive/Network Analysis & Modeling/fb100/Tennessee95.graphml\n",
            "/content/drive/MyDrive/Network Analysis & Modeling/fb100/NYU9.graphml\n",
            "/content/drive/MyDrive/Network Analysis & Modeling/fb100/Carnegie49.graphml\n",
            "/content/drive/MyDrive/Network Analysis & Modeling/fb100/GWU54.graphml\n",
            "/content/drive/MyDrive/Network Analysis & Modeling/fb100/USF51.graphml\n",
            "/content/drive/MyDrive/Network Analysis & Modeling/fb100/Vanderbilt48.graphml\n",
            "/content/drive/MyDrive/Network Analysis & Modeling/fb100/USC35.graphml\n",
            "/content/drive/MyDrive/Network Analysis & Modeling/fb100/Rutgers89.graphml\n",
            "/content/drive/MyDrive/Network Analysis & Modeling/fb100/UConn91.graphml\n",
            "/content/drive/MyDrive/Network Analysis & Modeling/fb100/MIT8.graphml\n",
            "/content/drive/MyDrive/Network Analysis & Modeling/fb100/USFCA72.graphml\n",
            "/content/drive/MyDrive/Network Analysis & Modeling/fb100/UChicago30.graphml\n",
            "/content/drive/MyDrive/Network Analysis & Modeling/fb100/UIllinois20.graphml\n",
            "/content/drive/MyDrive/Network Analysis & Modeling/fb100/UC61.graphml\n",
            "/content/drive/MyDrive/Network Analysis & Modeling/fb100/Cal65.graphml\n",
            "/content/drive/MyDrive/Network Analysis & Modeling/fb100/Yale4.graphml\n",
            "/content/drive/MyDrive/Network Analysis & Modeling/fb100/Northeastern19.graphml\n",
            "/content/drive/MyDrive/Network Analysis & Modeling/fb100/Dartmouth6.graphml\n"
          ]
        }
      ]
    },
    {
      "cell_type": "markdown",
      "source": [
        "We define these four functions in order to be able to graph:\n",
        "1.   Assortativity as function of the networks size.\n",
        "2.   Assortativity distribution.\n",
        "\n",
        "From the networks of the Facebook 100 dataset, we investigate assortativity patterns for three attributes:\n",
        "\n",
        "1. Dorm  \n",
        "2. Major \n",
        "3. Student/Faculty Status\n",
        "4. Vertex Degree\n",
        "\n",
        "\n",
        "\n",
        "\n",
        "\n"
      ],
      "metadata": {
        "id": "SVlYqXGVSJJi"
      }
    },
    {
      "cell_type": "markdown",
      "source": [
        "### Assortativity Graphic \n",
        "\n",
        "The following function plots assertiveness as a function of network size. It receives as parameters an attribute and the number of networks that belong to the Facebook 100 Dataset."
      ],
      "metadata": {
        "id": "3DC7h5y3TyWS"
      }
    },
    {
      "cell_type": "code",
      "source": [
        "def assortativity_graphic(att, num_net):\n",
        "  attribute = []\n",
        "  size = []\n",
        "  for _ in range(num_net):\n",
        "    attribute.append(None)\n",
        "    size.append(None)\n",
        "  cont = 0\n",
        "  title = att.title() + \" Assortativity\"\n",
        "  for x in range(num_net):\n",
        "    attribute[cont] = nx.attribute_assortativity_coefficient(Gs[cont], att)\n",
        "    size[cont] = Gs[cont].size()\n",
        "    cont += 1\n",
        "  plt.xlabel(r\"Network Size \")\n",
        "  plt.ylabel(title)\n",
        "  plt.xscale('log')\n",
        "  plt.grid(axis='y', alpha=0.50)\n",
        "  plt.grid(axis='x', alpha=0.50)\n",
        "  plt.axhline(0, color='red', linestyle='dashed', linewidth=1)\n",
        "  plt.plot(size, attribute, '*', color='black');\n"
      ],
      "metadata": {
        "id": "eCTrEudY2m0s"
      },
      "execution_count": 164,
      "outputs": []
    },
    {
      "cell_type": "markdown",
      "source": [
        "### Assortativity Degree Graphic \n",
        "\n",
        "The following function plots assertiveness as a function of network size. It receives as parameter the number of networks that belong to the Facebook 100 Dataset."
      ],
      "metadata": {
        "id": "WGPbhfadUwQB"
      }
    },
    {
      "cell_type": "code",
      "source": [
        "def assortativity_degree_graphic(num_net):\n",
        "  attribute = []\n",
        "  size = []\n",
        "  for _ in range(num_net):\n",
        "    attribute.append(None)\n",
        "    size.append(None)\n",
        "  cont = 0\n",
        "  title =\"Degree Assortativity\"\n",
        "  for x in range(num_net):\n",
        "    attribute[cont] = nx.degree_assortativity_coefficient(Gs[cont])\n",
        "    size[cont] = Gs[cont].size()\n",
        "    cont += 1\n",
        "  plt.xlabel(r\"Network Size \")\n",
        "  plt.ylabel(title)\n",
        "  plt.xscale('log')\n",
        "  plt.grid(axis='y', alpha=0.50)\n",
        "  plt.grid(axis='x', alpha=0.50)\n",
        "  plt.axhline(0, color='red', linestyle='dashed', linewidth=1)\n",
        "  plt.plot(size, attribute, '*', color='black');\n"
      ],
      "metadata": {
        "id": "Exk3d_ANPVXb"
      },
      "execution_count": 165,
      "outputs": []
    },
    {
      "cell_type": "markdown",
      "source": [
        "### Density Graphic \n",
        "\n",
        "The following function plots assertiveness distribution. In this method, a continuous curve is drawn at every individual data point and all of these curves are then added together to make a single smooth density estimation.  It receives as parameters an attribute and the number of networks that belong to the Facebook 100 Dataset."
      ],
      "metadata": {
        "id": "irbjJd8JVK6O"
      }
    },
    {
      "cell_type": "code",
      "source": [
        "import seaborn as sns\n",
        "def density_graphic(att,num_net):\n",
        "  attribute = []\n",
        "  for _ in range(num_net):\n",
        "    attribute.append(None)\n",
        "  cont = 0\n",
        "  title = att.title() + \" Assortativity\"\n",
        "  for x in range(num_net):\n",
        "    attribute[cont] = nx.attribute_assortativity_coefficient(Gs[cont], att)\n",
        "    cont += 1\n",
        "  sns.distplot(attribute, hist=False, kde=True, \n",
        "             bins=int(180/5), color = 'darkblue', \n",
        "             hist_kws={'edgecolor':'black'},\n",
        "             kde_kws={'linewidth': 4})\n",
        "  plt.xlabel(title)\n",
        "  plt.grid(axis='y', alpha=0.50)\n",
        "  plt.grid(axis='x', alpha=0.50)\n",
        "  plt.xlim(left=-0.01)\n",
        "  plt.axvline(0, color='red', linestyle='dashed', linewidth=1)"
      ],
      "metadata": {
        "id": "YXJ5yVqRE6x6"
      },
      "execution_count": 166,
      "outputs": []
    },
    {
      "cell_type": "markdown",
      "source": [
        "### Density Degree Graphic \n",
        "\n",
        "The following function plots assertiveness distribution. In this method, a continuous curve is drawn at every individual data point and all of these curves are then added together to make a single smooth density estimation. It receives as parameter the number of networks that belong to the Facebook 100 Dataset."
      ],
      "metadata": {
        "id": "EsMPCKX3V2TO"
      }
    },
    {
      "cell_type": "code",
      "source": [
        "import seaborn as sns\n",
        "def density_degree_graphic(num_net):\n",
        "  attribute = []\n",
        "  for _ in range(num_net):\n",
        "    attribute.append(None)\n",
        "  cont = 0\n",
        "  title =\"Degree Assortativity\"\n",
        "  for x in range(num_net):\n",
        "    attribute[cont] = nx.degree_assortativity_coefficient(Gs[cont])\n",
        "    cont += 1\n",
        "  sns.distplot(attribute, hist=False, kde=True, \n",
        "             bins=int(180/5), color = 'darkblue', \n",
        "             hist_kws={'edgecolor':'black'},\n",
        "             kde_kws={'linewidth': 4})\n",
        "  plt.xlabel(title)\n",
        "  plt.grid(axis='y', alpha=0.50)\n",
        "  plt.grid(axis='x', alpha=0.50)\n",
        "  plt.xlim(left=-0.01)\n",
        "  plt.axvline(0, color='red', linestyle='dashed', linewidth=1)"
      ],
      "metadata": {
        "id": "7VmhZ7CcQOkd"
      },
      "execution_count": 167,
      "outputs": []
    },
    {
      "cell_type": "markdown",
      "source": [
        "### Dorm"
      ],
      "metadata": {
        "id": "AY3KjGl4WBMc"
      }
    },
    {
      "cell_type": "code",
      "source": [
        "assortativity_graphic(\"dorm\",20)"
      ],
      "metadata": {
        "id": "YA5-hclAgqr8",
        "colab": {
          "base_uri": "https://localhost:8080/",
          "height": 283
        },
        "outputId": "13276805-bb7c-40ec-8273-fd3ce1c48536"
      },
      "execution_count": 168,
      "outputs": [
        {
          "output_type": "display_data",
          "data": {
            "image/png": "[encoded data removed]",
            "text/plain": [
              "<Figure size 432x288 with 1 Axes>"
            ]
          },
          "metadata": {
            "needs_background": "light"
          }
        }
      ]
    },
    {
      "cell_type": "code",
      "source": [
        "density_graphic(\"dorm\",20)"
      ],
      "metadata": {
        "id": "rvOGmCpHjQf3",
        "colab": {
          "base_uri": "https://localhost:8080/",
          "height": 334
        },
        "outputId": "3b264301-7ca2-4735-95f3-ccaf380fa219"
      },
      "execution_count": 169,
      "outputs": [
        {
          "output_type": "stream",
          "name": "stderr",
          "text": [
            "/usr/local/lib/python3.7/dist-packages/seaborn/distributions.py:2619: FutureWarning: `distplot` is a deprecated function and will be removed in a future version. Please adapt your code to use either `displot` (a figure-level function with similar flexibility) or `kdeplot` (an axes-level function for kernel density plots).\n",
            "  warnings.warn(msg, FutureWarning)\n"
          ]
        },
        {
          "output_type": "display_data",
          "data": {
            "image/png": "[encoded data removed]",
            "text/plain": [
              "<Figure size 432x288 with 1 Axes>"
            ]
          },
          "metadata": {
            "needs_background": "light"
          }
        }
      ]
    },
    {
      "cell_type": "markdown",
      "source": [
        "### Major"
      ],
      "metadata": {
        "id": "WcMMKj_zWIZE"
      }
    },
    {
      "cell_type": "code",
      "source": [
        "assortativity_graphic(\"major_index\",20)"
      ],
      "metadata": {
        "id": "oCeJbwG5G957",
        "colab": {
          "base_uri": "https://localhost:8080/",
          "height": 283
        },
        "outputId": "975ee221-48c1-43d2-c56d-68e1847dc2a6"
      },
      "execution_count": 170,
      "outputs": [
        {
          "output_type": "display_data",
          "data": {
            "image/png": "[encoded data removed]",
            "text/plain": [
              "<Figure size 432x288 with 1 Axes>"
            ]
          },
          "metadata": {
            "needs_background": "light"
          }
        }
      ]
    },
    {
      "cell_type": "code",
      "source": [
        "density_graphic(\"major_index\",20)"
      ],
      "metadata": {
        "id": "0Gn3RS5aJuUe",
        "colab": {
          "base_uri": "https://localhost:8080/",
          "height": 335
        },
        "outputId": "fdc3586a-15f1-4376-b5dc-81825c488898"
      },
      "execution_count": 171,
      "outputs": [
        {
          "output_type": "stream",
          "name": "stderr",
          "text": [
            "/usr/local/lib/python3.7/dist-packages/seaborn/distributions.py:2619: FutureWarning: `distplot` is a deprecated function and will be removed in a future version. Please adapt your code to use either `displot` (a figure-level function with similar flexibility) or `kdeplot` (an axes-level function for kernel density plots).\n",
            "  warnings.warn(msg, FutureWarning)\n"
          ]
        },
        {
          "output_type": "display_data",
          "data": {
            "image/png": "[encoded data removed]",
            "text/plain": [
              "<Figure size 432x288 with 1 Axes>"
            ]
          },
          "metadata": {
            "needs_background": "light"
          }
        }
      ]
    },
    {
      "cell_type": "markdown",
      "source": [
        "### Student/Faculty Status"
      ],
      "metadata": {
        "id": "8ZOFbJiQWNkT"
      }
    },
    {
      "cell_type": "code",
      "source": [
        "assortativity_graphic(\"student_fac\",20)"
      ],
      "metadata": {
        "id": "pwB6ByVDKCI0",
        "colab": {
          "base_uri": "https://localhost:8080/",
          "height": 283
        },
        "outputId": "894e12fe-52b4-4215-ff13-f074373f9f05"
      },
      "execution_count": 172,
      "outputs": [
        {
          "output_type": "display_data",
          "data": {
            "image/png": "[encoded data removed]",
            "text/plain": [
              "<Figure size 432x288 with 1 Axes>"
            ]
          },
          "metadata": {
            "needs_background": "light"
          }
        }
      ]
    },
    {
      "cell_type": "code",
      "source": [
        "density_graphic(\"student_fac\",20)"
      ],
      "metadata": {
        "id": "Y_T0uUJgKffl",
        "colab": {
          "base_uri": "https://localhost:8080/",
          "height": 335
        },
        "outputId": "57481446-3d1f-4cb3-e55a-a1061d6752c8"
      },
      "execution_count": 173,
      "outputs": [
        {
          "output_type": "stream",
          "name": "stderr",
          "text": [
            "/usr/local/lib/python3.7/dist-packages/seaborn/distributions.py:2619: FutureWarning: `distplot` is a deprecated function and will be removed in a future version. Please adapt your code to use either `displot` (a figure-level function with similar flexibility) or `kdeplot` (an axes-level function for kernel density plots).\n",
            "  warnings.warn(msg, FutureWarning)\n"
          ]
        },
        {
          "output_type": "display_data",
          "data": {
            "image/png": "[encoded data removed]",
            "text/plain": [
              "<Figure size 432x288 with 1 Axes>"
            ]
          },
          "metadata": {
            "needs_background": "light"
          }
        }
      ]
    },
    {
      "cell_type": "markdown",
      "source": [
        "### Degree"
      ],
      "metadata": {
        "id": "PVJROCZmWva8"
      }
    },
    {
      "cell_type": "code",
      "source": [
        "assortativity_degree_graphic(20)"
      ],
      "metadata": {
        "id": "1BVw3OplK2Kf",
        "colab": {
          "base_uri": "https://localhost:8080/",
          "height": 283
        },
        "outputId": "82ac4d39-41bc-480a-ace8-34d13e5b1d1d"
      },
      "execution_count": 174,
      "outputs": [
        {
          "output_type": "display_data",
          "data": {
            "image/png": "[encoded data removed]",
            "text/plain": [
              "<Figure size 432x288 with 1 Axes>"
            ]
          },
          "metadata": {
            "needs_background": "light"
          }
        }
      ]
    },
    {
      "cell_type": "code",
      "source": [
        "density_degree_graphic(20)"
      ],
      "metadata": {
        "id": "wvXmHzrjP3zy",
        "colab": {
          "base_uri": "https://localhost:8080/",
          "height": 334
        },
        "outputId": "3ee7f376-0b53-4326-eea2-3cd5e64bd332"
      },
      "execution_count": 175,
      "outputs": [
        {
          "output_type": "stream",
          "name": "stderr",
          "text": [
            "/usr/local/lib/python3.7/dist-packages/seaborn/distributions.py:2619: FutureWarning: `distplot` is a deprecated function and will be removed in a future version. Please adapt your code to use either `displot` (a figure-level function with similar flexibility) or `kdeplot` (an axes-level function for kernel density plots).\n",
            "  warnings.warn(msg, FutureWarning)\n"
          ]
        },
        {
          "output_type": "display_data",
          "data": {
            "image/png": "[encoded data removed]",
            "text/plain": [
              "<Figure size 432x288 with 1 Axes>"
            ]
          },
          "metadata": {
            "needs_background": "light"
          }
        }
      ]
    },
    {
      "cell_type": "markdown",
      "source": [
        "### Analysis\n",
        "\n"
      ],
      "metadata": {
        "id": "_WEJ4CQoXpu3"
      }
    },
    {
      "cell_type": "code",
      "source": [
        "print(nx.attribute_assortativity_coefficient(Gs[0], \"dorm\"))\n",
        "print(nx.attribute_assortativity_coefficient(Gs[0], \"student_fac\"))\n",
        "print(nx.attribute_assortativity_coefficient(Gs[0], \"major_index\"))\n",
        "print(nx.degree_assortativity_coefficient(Gs[0]))\n",
        "print(Gs[0].size())"
      ],
      "metadata": {
        "id": "Wp2QUaqIYwbw",
        "colab": {
          "base_uri": "https://localhost:8080/"
        },
        "outputId": "de6b7a1e-0c61-4b2f-bbd3-5dfacf6faa04"
      },
      "execution_count": 176,
      "outputs": [
        {
          "output_type": "stream",
          "name": "stdout",
          "text": [
            "0.17631148494206905\n",
            "0.46085880060278733\n",
            "0.05069448097957243\n",
            "0.06126868807106425\n",
            "314989\n"
          ]
        }
      ]
    },
    {
      "cell_type": "markdown",
      "source": [
        "With the results of the graphs seen above we can infer the following:\n",
        "\n",
        "\n",
        "People within the same careers or faculties tend to relate to each other to a greater extent than those who are living in the same dorm. As human beings we seek that when creating new relationships, the people who will be part of them must have a similar assortment. There are other attributes such as the number of titles or the majors that have a lesser influence when selecting friendships within the network. The distribution of points spans the line of no assortativity, with all the values above 0. This confirms the expected behavior of people who became in-network friends within Facebook at the time the data was collected."
      ],
      "metadata": {
        "id": "8u48-WKgcNfB"
      }
    },
    {
      "cell_type": "markdown",
      "source": [
        "##Question 4: Link prediction"
      ],
      "metadata": {
        "id": "eiXjPY-SeuF5"
      }
    },
    {
      "cell_type": "markdown",
      "source": [
        "### (b) Implementation of the following metrics for link prediction:\n",
        "\n",
        "\n",
        "1.   Common Neighbors\n",
        "2.   Jacard\n",
        "3.   Adamic/Adar\n",
        "\n"
      ],
      "metadata": {
        "id": "38Evc5m75NJJ"
      }
    },
    {
      "cell_type": "markdown",
      "source": [
        "random_percentaje(): This function selects the percentage that will be used to calculate E_removed."
      ],
      "metadata": {
        "id": "rTM8wRIq6fv-"
      }
    },
    {
      "cell_type": "code",
      "source": [
        "def random_percentaje():\n",
        "  percentaje = 0\n",
        "  test = randint(1,4)\n",
        "  if test == 1:\n",
        "    percentaje = 0.05\n",
        "  elif test == 2:\n",
        "    percentaje = 0.1\n",
        "  elif test == 3:\n",
        "    percentaje = 0.15\n",
        "  elif test == 4:\n",
        "    percentaje = 0.2\n",
        "  return percentaje"
      ],
      "metadata": {
        "id": "4WQgdhtIWwcp"
      },
      "execution_count": null,
      "outputs": []
    },
    {
      "cell_type": "markdown",
      "source": [
        "remove_edges(G,percentaje): This function returns the Graph (e_removed) and the subset of links that were removed from the original Graph. It receives as parameters a graph and a percentage."
      ],
      "metadata": {
        "id": "LpHOwdGX7Adr"
      }
    },
    {
      "cell_type": "code",
      "source": [
        "def remove_edges(G,percentaje):\n",
        "  m = G.number_of_edges()\n",
        "  e_subset = random.sample(G.edges(), int(percentaje*G.number_of_edges()))\n",
        "  e_removed = G \n",
        "  e_removed.remove_edges_from(e_subset)\n",
        "  edge_subset_size = len(list(e_subset))\n",
        "  print(\"Deleted : \", str(edge_subset_size))\n",
        "  print(\"Remaining : \", str((m - edge_subset_size)))\n",
        "  return e_removed, e_subset"
      ],
      "metadata": {
        "id": "aBW3in2hfkE7"
      },
      "execution_count": null,
      "outputs": []
    },
    {
      "cell_type": "markdown",
      "source": [
        "forIntersection(lista): This function converts a list with triples (u,v,p) to a list with pairs (u,v)."
      ],
      "metadata": {
        "id": "BVEbHhz_7vOJ"
      }
    },
    {
      "cell_type": "code",
      "source": [
        "def forIntersection(lista):\n",
        "  retorno = []\n",
        "  cont = 0\n",
        "  for _ in range(len(lista)):\n",
        "    retorno.append(None)\n",
        "  for u, v, p in lista: \n",
        "      retorno[cont] = u,v\n",
        "      cont = cont + 1\n",
        "  return retorno "
      ],
      "metadata": {
        "id": "7rK6dUIRaq10"
      },
      "execution_count": null,
      "outputs": []
    },
    {
      "cell_type": "markdown",
      "source": [
        "intersection(lst1, lst2): This function returns the intersection between the elements of two lists."
      ],
      "metadata": {
        "id": "Rcjxdtyt8lH5"
      }
    },
    {
      "cell_type": "code",
      "source": [
        "def intersection(lst1, lst2):\n",
        "    lst3 = [value for value in lst1 if value in lst2]\n",
        "    return lst3"
      ],
      "metadata": {
        "id": "BA35AXv9aypl"
      },
      "execution_count": null,
      "outputs": []
    },
    {
      "cell_type": "markdown",
      "source": [
        "unique(G): This function returns the unique combinations of nodes (u,v) within a graph. It receives the graph as a parameter and returns a list with the combinations described above."
      ],
      "metadata": {
        "id": "NfSwO1h583G6"
      }
    },
    {
      "cell_type": "code",
      "source": [
        "def unique(G):\n",
        "  cn_list = []\n",
        "  n = len(G.nodes)\n",
        "  cont1 = 0\n",
        "  cont2 = 0 \n",
        "  for _ in range(len(G.nodes)-1):\n",
        "    for _ in range(len(G.nodes)-1):\n",
        "      terna = str(cont1),str(cont2)\n",
        "      cn_list.append(terna)\n",
        "      cont2 = cont2 + 1\n",
        "    cont2 = 0 \n",
        "    cont1 = cont1 + 1\n",
        "  retorno = set(tuple(sorted(x)) for x in cn_list)\n",
        "  return list(retorno)"
      ],
      "metadata": {
        "id": "qVRpCnLzDJ0Z"
      },
      "execution_count": null,
      "outputs": []
    },
    {
      "cell_type": "markdown",
      "source": [
        "common_neighbor_cen(G): This function returns a list to which Common Neighbors have been applied for link prediction."
      ],
      "metadata": {
        "id": "cKiBvyqw9TeB"
      }
    },
    {
      "cell_type": "code",
      "source": [
        "def common_neighbor_cen(G):\n",
        "  unicos = unique(G)\n",
        "  cn_list = []\n",
        "  n = len(unicos)\n",
        "  cont1 = 0\n",
        "  for _ in range(n-1):\n",
        "    dupla = unicos[cont1]\n",
        "    cn = sorted(nx.common_neighbors(G, dupla[0], dupla[1]))\n",
        "    terna = dupla[0],dupla[1],len(cn)\n",
        "    cn_list.append(terna) \n",
        "    cont1 = cont1 + 1\n",
        "  return cn_list"
      ],
      "metadata": {
        "id": "hAnLD4NWgqFM"
      },
      "execution_count": null,
      "outputs": []
    },
    {
      "cell_type": "markdown",
      "source": [
        "jaccard_coeff(G): This function returns a list where Jaccard was applied for link prediction."
      ],
      "metadata": {
        "id": "a127ErrA9sur"
      }
    },
    {
      "cell_type": "code",
      "source": [
        "def jaccard_coeff(G):\n",
        "  jc_list = list(nx.jaccard_coefficient(G))\n",
        "  return jc_list"
      ],
      "metadata": {
        "id": "3fIz_i7BqZIX"
      },
      "execution_count": null,
      "outputs": []
    },
    {
      "cell_type": "markdown",
      "source": [
        "adamic_adar(G): This function returns a list where Adamic/Adar was applied for link prediction."
      ],
      "metadata": {
        "id": "vsWXDUkw96iH"
      }
    },
    {
      "cell_type": "code",
      "source": [
        "def adamic_adar(G):\n",
        "  aa_list = list(nx.adamic_adar_index(G))\n",
        "  return aa_list"
      ],
      "metadata": {
        "id": "Iii9Gf2gua_b"
      },
      "execution_count": null,
      "outputs": []
    },
    {
      "cell_type": "markdown",
      "source": [
        "takeThird(elem): This function returns the third element of an associated parameter. It is used to filter down the metric values for link prediction."
      ],
      "metadata": {
        "id": "kaRU_EKC-Jgy"
      }
    },
    {
      "cell_type": "code",
      "source": [
        "def takeThird(elem):\n",
        "    return elem[2]"
      ],
      "metadata": {
        "id": "kbc5hn5LaY5N"
      },
      "execution_count": null,
      "outputs": []
    },
    {
      "cell_type": "markdown",
      "source": [
        "### (c) Evaluating a link predictor:"
      ],
      "metadata": {
        "id": "ZgdICyJp-reF"
      }
    },
    {
      "cell_type": "markdown",
      "source": [
        "1. Select graph Gfb(V, E) in the Facebook100 dataset."
      ],
      "metadata": {
        "id": "DEqmRk7o_BW8"
      }
    },
    {
      "cell_type": "code",
      "source": [
        "ruta = path + \"Caltech36.graphml\"\n",
        "#files[randint(0,nfiles-1)]\n",
        "print(ruta)\n",
        "randG = nx.read_graphml(ruta)"
      ],
      "metadata": {
        "colab": {
          "base_uri": "https://localhost:8080/",
          "height": 0
        },
        "id": "H0wAmBlUvqab",
        "outputId": "311b62cd-b401-4b7d-8bcc-c9b8ca11bf95"
      },
      "execution_count": 142,
      "outputs": [
        {
          "output_type": "stream",
          "name": "stdout",
          "text": [
            "/content/drive/MyDrive/Network Analysis & Modeling/fb100/Caltech36.graphml\n"
          ]
        }
      ]
    },
    {
      "cell_type": "markdown",
      "source": [
        "2. Randomly remove a given fraction f ∈ [0.05, 0.1, 0.15, 0.2] of edges Eremoved\n",
        "from the original graph Gfb.\n"
      ],
      "metadata": {
        "id": "-Rg__-cU_spy"
      }
    },
    {
      "cell_type": "code",
      "source": [
        "testG,subset_testG = remove_edges(randG,random_percentaje())"
      ],
      "metadata": {
        "colab": {
          "base_uri": "https://localhost:8080/"
        },
        "id": "8qb3w6ZVw0WA",
        "outputId": "4ed98dda-a4da-44e2-8746-99c5d2d391d7"
      },
      "execution_count": 162,
      "outputs": [
        {
          "output_type": "stream",
          "name": "stdout",
          "text": [
            "Deleted :  3164\n",
            "Remaining :  12660\n"
          ]
        }
      ]
    },
    {
      "cell_type": "markdown",
      "source": [
        "3. For each node pair in the graph |V |×|V |, for each node pair compute the link\n",
        "predictor metrics of interest p, these are the predicted ”friendship” Epredict.\n"
      ],
      "metadata": {
        "id": "ddmwMeR0AGGZ"
      }
    },
    {
      "cell_type": "code",
      "source": [
        "A = jaccard_coeff(testG)\n",
        "B = adamic_adar(testG)\n",
        "C = common_neighbor_cen(testG)"
      ],
      "metadata": {
        "id": "EMYaECvYxQvt"
      },
      "execution_count": 144,
      "outputs": []
    },
    {
      "cell_type": "markdown",
      "source": [
        "4. Sort in decreasing order of confidence as a function p from the node pair\n",
        "Epredict and then we take the first n pairs of nodes E\n",
        "(n)\n",
        "predict.\n"
      ],
      "metadata": {
        "id": "J1ZeACQJATen"
      }
    },
    {
      "cell_type": "code",
      "source": [
        "A.sort(key=takeThird,reverse=True) "
      ],
      "metadata": {
        "id": "X4fm8ON0EG2s"
      },
      "execution_count": 145,
      "outputs": []
    },
    {
      "cell_type": "code",
      "source": [
        "B.sort(key=takeThird,reverse=True) "
      ],
      "metadata": {
        "id": "G0VBs-066vq0"
      },
      "execution_count": 146,
      "outputs": []
    },
    {
      "cell_type": "code",
      "source": [
        "C.sort(key=takeThird,reverse=True)"
      ],
      "metadata": {
        "id": "YoYHaedY6wZE"
      },
      "execution_count": 147,
      "outputs": []
    },
    {
      "cell_type": "code",
      "source": [
        "e_predict_jc = forIntersection(A)\n",
        "e_predict_aa = forIntersection(B)\n",
        "e_predict_cn = forIntersection(C)"
      ],
      "metadata": {
        "id": "8nxtNajDSI1E"
      },
      "execution_count": 148,
      "outputs": []
    },
    {
      "cell_type": "code",
      "source": [
        "n = randint(1,testG.number_of_edges())\n",
        "print(n)\n",
        "e_predict_jc_n = e_predict_jc[0:n]\n",
        "e_predict_aa_n = e_predict_aa[0:n]\n",
        "e_predict_cn_n = e_predict_cn[0:n]"
      ],
      "metadata": {
        "id": "IAj3ssrUdawi",
        "colab": {
          "base_uri": "https://localhost:8080/"
        },
        "outputId": "62ac2bfa-0f40-4b47-8db5-6ba40d664df7"
      },
      "execution_count": 161,
      "outputs": [
        {
          "output_type": "stream",
          "name": "stdout",
          "text": [
            "2000\n"
          ]
        }
      ]
    },
    {
      "cell_type": "markdown",
      "source": [
        "5. Compute the size of the intersection between the edge set of removed edges\n",
        "and the edge set of predicted node |Eremoved ∩ E(n)predict|."
      ],
      "metadata": {
        "id": "bwB34PLjAlh1"
      }
    },
    {
      "cell_type": "code",
      "source": [
        "e_removed_inter_e_predict_jc_n = intersection(subset_testG, e_predict_jc_n)\n",
        "e_removed_inter_e_predict_aa_n = intersection(subset_testG, e_predict_aa_n)\n",
        "e_removed_inter_e_predict_cn_n = intersection(subset_testG, e_predict_cn_n)"
      ],
      "metadata": {
        "id": "CxaslSUvSUIZ"
      },
      "execution_count": 159,
      "outputs": []
    },
    {
      "cell_type": "code",
      "source": [
        "print(\"Intersection between edge set of removed edges and the edge set of predicted node using Common Neighbors Metric:\",len(e_removed_inter_e_predict_cn_n))\n",
        "print(\"Intersection between edge set of removed edges and the edge set of predicted node using Jaccard Metric:\",len(e_removed_inter_e_predict_jc_n))\n",
        "print(\"Intersection between edge set of removed edges and the edge set of predicted node using Adamic/Adar Metric:\",len(e_removed_inter_e_predict_aa_n))"
      ],
      "metadata": {
        "colab": {
          "base_uri": "https://localhost:8080/",
          "height": 0
        },
        "id": "Q0C1lVdSSezj",
        "outputId": "54074baf-589a-4eb1-eec7-8409667d10b0"
      },
      "execution_count": 160,
      "outputs": [
        {
          "output_type": "stream",
          "name": "stdout",
          "text": [
            "Intersection between edge set of removed edges and the edge set of predicted node using Common Neighbors Metric: 252\n",
            "Intersection between edge set of removed edges and the edge set of predicted node using Jaccard Metric: 227\n",
            "Intersection between edge set of removed edges and the edge set of predicted node using Adamic/Adar Metric: 245\n"
          ]
        }
      ]
    },
    {
      "cell_type": "markdown",
      "source": [
        "###  (d) Choose a couple of graphs in the facebook100 dataset run and evaluate each link predictor on them, and conclude on the efficiency of the following metrics: Common Neighbors, Jaccard, Adamic/Adar.\n"
      ],
      "metadata": {
        "id": "TpMJvSCiAuoB"
      }
    },
    {
      "cell_type": "code",
      "source": [
        "path1 = path + \"Simmons81.graphml\"\n",
        "path2 = path + \"Reed98.graphml\"\n",
        "print(path1)\n",
        "G1 = nx.read_graphml(path1)\n",
        "G2 = nx.read_graphml(path2)"
      ],
      "metadata": {
        "id": "mPB1saK7gmGV",
        "colab": {
          "base_uri": "https://localhost:8080/"
        },
        "outputId": "3dfe6c40-e10d-4700-fb2e-b7e10993506f"
      },
      "execution_count": null,
      "outputs": [
        {
          "output_type": "stream",
          "name": "stdout",
          "text": [
            "/content/drive/MyDrive/Network Analysis & Modeling/fb100/Simmons81.graphml\n"
          ]
        }
      ]
    },
    {
      "cell_type": "code",
      "source": [
        "rG1,subset_rG1 = remove_edges(G1,random_percentaje())"
      ],
      "metadata": {
        "colab": {
          "base_uri": "https://localhost:8080/"
        },
        "id": "cAf2kj8xCS7r",
        "outputId": "eb260c17-e8bb-43eb-ef27-5ab1a163796f"
      },
      "execution_count": null,
      "outputs": [
        {
          "output_type": "stream",
          "name": "stdout",
          "text": [
            "Deleted :  1649\n",
            "Remaining :  31339\n"
          ]
        }
      ]
    },
    {
      "cell_type": "code",
      "source": [
        "rG2,subset_rG2 = remove_edges(G2,random_percentaje())"
      ],
      "metadata": {
        "colab": {
          "base_uri": "https://localhost:8080/"
        },
        "id": "_dqE8tUfCpg7",
        "outputId": "3b821607-4df9-4c57-c0ca-2e5aea37feac"
      },
      "execution_count": null,
      "outputs": [
        {
          "output_type": "stream",
          "name": "stdout",
          "text": [
            "Deleted :  940\n",
            "Remaining :  17872\n"
          ]
        }
      ]
    },
    {
      "cell_type": "code",
      "source": [
        "jc_G1 = jaccard_coeff(rG1)\n",
        "aa_G1 = adamic_adar(rG1)\n",
        "cn_G1 = common_neighbor_cen(rG1)"
      ],
      "metadata": {
        "id": "WGUTxkXKCuoF"
      },
      "execution_count": null,
      "outputs": []
    },
    {
      "cell_type": "code",
      "source": [
        "jc_G2 = jaccard_coeff(rG2)\n",
        "aa_G2 = adamic_adar(rG2)\n",
        "cn_G2 = common_neighbor_cen(rG2)"
      ],
      "metadata": {
        "id": "iZ2qRGoyDE4r"
      },
      "execution_count": 73,
      "outputs": []
    },
    {
      "cell_type": "code",
      "source": [
        "jc_G1.sort(key=takeThird,reverse=True) "
      ],
      "metadata": {
        "id": "sPvT_ylrHmYI"
      },
      "execution_count": 74,
      "outputs": []
    },
    {
      "cell_type": "code",
      "source": [
        "aa_G1.sort(key=takeThird,reverse=True) "
      ],
      "metadata": {
        "id": "uEsThXCLIPaP"
      },
      "execution_count": 75,
      "outputs": []
    },
    {
      "cell_type": "code",
      "source": [
        "cn_G1.sort(key=takeThird,reverse=True) "
      ],
      "metadata": {
        "id": "eHbUcLVdISAn"
      },
      "execution_count": 76,
      "outputs": []
    },
    {
      "cell_type": "code",
      "source": [
        "jc_G2.sort(key=takeThird,reverse=True) "
      ],
      "metadata": {
        "id": "soFwPMvlITkK"
      },
      "execution_count": 77,
      "outputs": []
    },
    {
      "cell_type": "code",
      "source": [
        "aa_G2.sort(key=takeThird,reverse=True) "
      ],
      "metadata": {
        "id": "4q8ObOk7IWCQ"
      },
      "execution_count": 78,
      "outputs": []
    },
    {
      "cell_type": "code",
      "source": [
        "cn_G2.sort(key=takeThird,reverse=True) "
      ],
      "metadata": {
        "id": "NLKwmi40IYzm"
      },
      "execution_count": 79,
      "outputs": []
    },
    {
      "cell_type": "code",
      "source": [
        "e_predict_jc_G1 = forIntersection(jc_G1)\n",
        "e_predict_aa_G1 = forIntersection(aa_G1)\n",
        "e_predict_cn_G1 = forIntersection(cn_G1)"
      ],
      "metadata": {
        "id": "-jrsA_WlIf53"
      },
      "execution_count": 110,
      "outputs": []
    },
    {
      "cell_type": "code",
      "source": [
        "e_predict_jc_G2 = forIntersection(jc_G2)\n",
        "e_predict_aa_G2 = forIntersection(aa_G2)\n",
        "e_predict_cn_G2 = forIntersection(cn_G2)"
      ],
      "metadata": {
        "id": "HKK7mJQsIyeg"
      },
      "execution_count": 111,
      "outputs": []
    },
    {
      "cell_type": "code",
      "source": [
        "n1 = randint(1,rG1.number_of_edges())\n",
        "print(n1)\n",
        "e_predict_jc_n_G1 = e_predict_jc_G1[0:n]\n",
        "e_predict_aa_n_G1 = e_predict_aa_G1[0:n]\n",
        "e_predict_cn_n_G1 = e_predict_cn_G1[0:n]"
      ],
      "metadata": {
        "colab": {
          "base_uri": "https://localhost:8080/",
          "height": 0
        },
        "id": "3KGlO8arI6e_",
        "outputId": "4e02a14b-cb68-4afc-9458-b205ba73ef91"
      },
      "execution_count": 132,
      "outputs": [
        {
          "output_type": "stream",
          "name": "stdout",
          "text": [
            "28380\n"
          ]
        }
      ]
    },
    {
      "cell_type": "code",
      "source": [
        "n2 = randint(1,rG2.number_of_edges())\n",
        "print(n2)\n",
        "e_predict_jc_n_G2 = e_predict_jc_G2[0:n]\n",
        "e_predict_aa_n_G2 = e_predict_aa_G2[0:n]\n",
        "e_predict_cn_n_G2 = e_predict_cn_G2[0:n]"
      ],
      "metadata": {
        "colab": {
          "base_uri": "https://localhost:8080/",
          "height": 0
        },
        "id": "404x1oxCJRwA",
        "outputId": "549e4f33-57b3-4b9f-ccee-8b62b39f5955"
      },
      "execution_count": 137,
      "outputs": [
        {
          "output_type": "stream",
          "name": "stdout",
          "text": [
            "13675\n"
          ]
        }
      ]
    },
    {
      "cell_type": "code",
      "source": [
        "e_removed_inter_e_predict_jc_n_G1 = intersection(subset_rG1, e_predict_jc_n_G1)\n",
        "e_removed_inter_e_predict_aa_n_G1 = intersection(subset_rG1, e_predict_aa_n_G1)\n",
        "e_removed_inter_e_predict_cn_n_G1 = intersection(subset_rG1, e_predict_cn_n_G1)"
      ],
      "metadata": {
        "id": "xAFJ91ohJcP5"
      },
      "execution_count": 138,
      "outputs": []
    },
    {
      "cell_type": "code",
      "source": [
        "e_removed_inter_e_predict_jc_n_G2 = intersection(subset_rG2, e_predict_jc_n_G2)\n",
        "e_removed_inter_e_predict_aa_n_G2 = intersection(subset_rG2, e_predict_aa_n_G2)\n",
        "e_removed_inter_e_predict_cn_n_G2 = intersection(subset_rG2, e_predict_cn_n_G2)"
      ],
      "metadata": {
        "id": "MCjx0bsrJ6Am"
      },
      "execution_count": 139,
      "outputs": []
    },
    {
      "cell_type": "code",
      "source": [
        "print(\"Intersection between edge set of removed edges and the edge set of predicted node using Common Neighbors Metric in G1:\",len(e_removed_inter_e_predict_cn_n_G1))\n",
        "print(\"Intersection between edge set of removed edges and the edge set of predicted node using Jaccard Metric in G1:\",len(e_removed_inter_e_predict_jc_n_G1))\n",
        "print(\"Intersection between edge set of removed edges and the edge set of predicted node using Adamic/Adar Metric in G1:\",len(e_removed_inter_e_predict_aa_n_G1))"
      ],
      "metadata": {
        "colab": {
          "base_uri": "https://localhost:8080/",
          "height": 0
        },
        "id": "98xtYnjSJ_uP",
        "outputId": "c0dfb9f8-625c-40e4-eacb-afb09785dfc2"
      },
      "execution_count": 140,
      "outputs": [
        {
          "output_type": "stream",
          "name": "stdout",
          "text": [
            "Intersection between edge set of removed edges and the edge set of predicted node using Common Neighbors Metric in G1: 230\n",
            "Intersection between edge set of removed edges and the edge set of predicted node using Jaccard Metric in G1: 244\n",
            "Intersection between edge set of removed edges and the edge set of predicted node using Adamic/Adar Metric in G1: 323\n"
          ]
        }
      ]
    },
    {
      "cell_type": "code",
      "source": [
        "print(\"Intersection between edge set of removed edges and the edge set of predicted node using Common Neighbors Metric in G2:\",len(e_removed_inter_e_predict_cn_n_G2))\n",
        "print(\"Intersection between edge set of removed edges and the edge set of predicted node using Jaccard Metric in G2:\",len(e_removed_inter_e_predict_jc_n_G2))\n",
        "print(\"Intersection between edge set of removed edges and the edge set of predicted node using Adamic/Adar Metric in G2:\",len(e_removed_inter_e_predict_aa_n_G2))"
      ],
      "metadata": {
        "colab": {
          "base_uri": "https://localhost:8080/",
          "height": 0
        },
        "id": "M-ewOI7WKNLu",
        "outputId": "8b7d207b-4a8b-4c41-d9df-00f967f38a26"
      },
      "execution_count": 141,
      "outputs": [
        {
          "output_type": "stream",
          "name": "stdout",
          "text": [
            "Intersection between edge set of removed edges and the edge set of predicted node using Common Neighbors Metric in G2: 327\n",
            "Intersection between edge set of removed edges and the edge set of predicted node using Jaccard Metric in G2: 257\n",
            "Intersection between edge set of removed edges and the edge set of predicted node using Adamic/Adar Metric in G2: 242\n"
          ]
        }
      ]
    },
    {
      "cell_type": "code",
      "source": [
        "G1.number_of_edges()"
      ],
      "metadata": {
        "colab": {
          "base_uri": "https://localhost:8080/"
        },
        "id": "G3A3eHZQqeCB",
        "outputId": "517d4696-fc82-4e88-cb9b-24c34074f40c"
      },
      "execution_count": 177,
      "outputs": [
        {
          "output_type": "execute_result",
          "data": {
            "text/plain": [
              "31339"
            ]
          },
          "metadata": {},
          "execution_count": 177
        }
      ]
    },
    {
      "cell_type": "code",
      "source": [
        "G2.number_of_edges()"
      ],
      "metadata": {
        "colab": {
          "base_uri": "https://localhost:8080/"
        },
        "id": "bAHpdAdvqjLW",
        "outputId": "87377661-bf91-4daf-89cb-2b5b8c08eb9d"
      },
      "execution_count": 178,
      "outputs": [
        {
          "output_type": "execute_result",
          "data": {
            "text/plain": [
              "17872"
            ]
          },
          "metadata": {},
          "execution_count": 178
        }
      ]
    },
    {
      "cell_type": "markdown",
      "source": [
        "### Analysis"
      ],
      "metadata": {
        "id": "8NEPFSEyLosd"
      }
    },
    {
      "cell_type": "markdown",
      "source": [
        "The link prediction method, in principle, provides a similarity score for each nonexisting link and for most methods, a higher score means higher likelihood that the link will appear in the future.\n",
        "\n",
        "As we can see, G1 has a higher number of edges than G2. That is why in G2 the metric that best fits is the Common Neighbors. This is because by having fewer links it is likely that the nodes have more neighbors. This means that in Reed98 it was a smaller network and it was more likely to establish friendships because of mutual friends. In G1 we can see that the metric that best fits is Adamic/Adar. Being a sample with a greater number of links, friendships are more viable between two people if the person they have in common does not know as many people. If this condition is met, it is likely that this mutual friend will introduce them. If we wanted a more stable metric on both, I would use Jaccard. This is because we take more into account the similarities between 2 nodes (in this case people) and the more similar they are, the more likely it is to establish a friendship."
      ],
      "metadata": {
        "id": "hBYDaRhno89i"
      }
    },
    {
      "cell_type": "markdown",
      "source": [
        "##Question 5: Find missing labels with the label propagation algorithms"
      ],
      "metadata": {
        "id": "OoZkBtcL4KkM"
      }
    },
    {
      "cell_type": "markdown",
      "source": [
        "### (b) Implement in python the label propagation algorithm, please consider pytorch3 and networkx4 for the development of your algorithm."
      ],
      "metadata": {
        "id": "p0SqvJSA6mWO"
      }
    },
    {
      "cell_type": "markdown",
      "source": [
        "**normalize(G):**This function returns a normalized array given a graph."
      ],
      "metadata": {
        "id": "uhZ0x3jf8c9Y"
      }
    },
    {
      "cell_type": "code",
      "source": [
        "def normalize(G):\n",
        "    A = nx.to_numpy_array(G)\n",
        "    D = np.sum(A, axis=1)\n",
        "    Dinv = np.diag(1/D)\n",
        "    return Dinv @ A"
      ],
      "metadata": {
        "id": "72GHd0VL4OOY"
      },
      "execution_count": 204,
      "outputs": []
    },
    {
      "cell_type": "markdown",
      "source": [
        "These functions are the result of the implementation of the label propagation algorithm."
      ],
      "metadata": {
        "id": "2dxM2eR6_LH-"
      }
    },
    {
      "cell_type": "code",
      "source": [
        "def label_propagation(G, lbp, labels_id, tol=1e-3, max_iter=1000):\n",
        "    norm = normalize(G)\n",
        "    copy_ylabel = lbp.copy()\n",
        "    previous = np.zeros(lbp.shape)\n",
        "\n",
        "    for _ in range(max_iter):\n",
        "        var = np.abs(np.sum(previous - lbp))\n",
        "        \n",
        "        if var < tol:\n",
        "            break\n",
        "        previous = lbp.copy()\n",
        "        lbp = np.dot(norm, previous)\n",
        "        lbp[labels_id] = copy_ylabel[labels_id]\n",
        "        \n",
        "    return lbp"
      ],
      "metadata": {
        "id": "P_fxFI8r8L7P"
      },
      "execution_count": 207,
      "outputs": []
    },
    {
      "cell_type": "code",
      "source": [
        "def complete_propagation(G, label, percentage):\n",
        "  N = len(G)\n",
        "\n",
        "  ndvalues = nx.get_node_attributes(G, label)\n",
        "  ulist = list(set( valor for i in ndvalues for valor in ndvalues.values()))\n",
        "  nunique = len(list(ulist))\n",
        "  \n",
        "  per = math.ceil(N*percentage)\n",
        "  lp = np.zeros((N, nunique))\n",
        "  lpbk = np.zeros((N, nunique))\n",
        "  \n",
        "  aprox_vals = []\n",
        "  index = per * math.floor(random() * 1/percentage)\n",
        "  cpindex = index\n",
        "  total = index + per\n",
        "  cnt = 0\n",
        "\n",
        "  for i in ndvalues:\n",
        "    for j in range(nunique):\n",
        "      if ndvalues[i] == ulist[j] and ndvalues[i] != 0 and index < total and index <= cnt:\n",
        "          lp[int(i), j] = 0\n",
        "          lpbk[int(i), j] = 1\n",
        "          aprox_vals.append(cnt)\n",
        "          index = index + 1\n",
        "      elif ndvalues[i] == ulist[j] and ndvalues[i] != 0:\n",
        "        lp[int(i), j] = 1\n",
        "        lpbk[int(i), j] = 1\n",
        "    cnt = cnt + 1\n",
        "\n",
        "  lid = (lp.sum(axis=1) == 1)\n",
        "  lpf = label_propagation(G, lp, lid)\n",
        "\n",
        "  return lpf, lpbk, cpindex, per"
      ],
      "metadata": {
        "id": "QhS7G51K_DlS"
      },
      "execution_count": 208,
      "outputs": []
    },
    {
      "cell_type": "markdown",
      "source": [
        "### (c) Choose a network from The Facebook100 dataset and randomly select 10%, 20%, and 30% of of the node attributes of the network to be removed. Use the label propagation algorithm you implemented to recover the missing attributes. Perform this operation for each of the following attributes : ”dorm”, ”major” and ”gender”."
      ],
      "metadata": {
        "id": "14sPgomu_mQ8"
      }
    },
    {
      "cell_type": "markdown",
      "source": [
        "The Duke dataset was chosen for comparison with the results provided in the project assignment document."
      ],
      "metadata": {
        "id": "WWW36ZU3Ok5s"
      }
    },
    {
      "cell_type": "code",
      "source": [
        "Duke = nx.read_graphml(path+\"Duke14.graphml\")"
      ],
      "metadata": {
        "id": "PhuS15lq_Gy9"
      },
      "execution_count": 198,
      "outputs": []
    },
    {
      "cell_type": "markdown",
      "source": [
        "### 10%"
      ],
      "metadata": {
        "id": "i2Y74h4VO1_b"
      }
    },
    {
      "cell_type": "code",
      "source": [
        "Dorm_10_lp, Dorm_10_lpbk, Dorm_10_index, Dorm_10_percentage = complete_propagation(Duke, 'dorm', 0.1)"
      ],
      "metadata": {
        "id": "SH0-zqSeJIwG"
      },
      "execution_count": 209,
      "outputs": []
    },
    {
      "cell_type": "code",
      "source": [
        "Major_10_lp, Major_10_lpbk, Major_10_index, Major_10_percentage = complete_propagation(Duke, 'major_index', 0.1)"
      ],
      "metadata": {
        "id": "c5FGA_CcPOe9"
      },
      "execution_count": 210,
      "outputs": []
    },
    {
      "cell_type": "code",
      "source": [
        "Gender_10_lp, Gender_10_lpbk, Gender_10_index, Gender_10_percentage = complete_propagation(Duke, 'gender', 0.1)"
      ],
      "metadata": {
        "id": "tbeeBX4dP7H0"
      },
      "execution_count": 211,
      "outputs": []
    },
    {
      "cell_type": "markdown",
      "source": [
        "### 20%"
      ],
      "metadata": {
        "id": "xFqKmbR6QmnN"
      }
    },
    {
      "cell_type": "code",
      "source": [
        "Dorm_20_lp, Dorm_20_lpbk, Dorm_20_index, Dorm_20_percentage = complete_propagation(Duke, 'dorm', 0.2)"
      ],
      "metadata": {
        "id": "KVnOPHEXQjqm"
      },
      "execution_count": 212,
      "outputs": []
    },
    {
      "cell_type": "code",
      "source": [
        "Major_20_lp, Major_20_lpbk, Major_20_index, Major_20_percentage = complete_propagation(Duke, 'major_index', 0.2)"
      ],
      "metadata": {
        "id": "SkdtHH-dRAGp"
      },
      "execution_count": 213,
      "outputs": []
    },
    {
      "cell_type": "code",
      "source": [
        "Gender_20_lp, Gender_20_lpbk, Gender_20_index, Gender_20_percentage = complete_propagation(Duke, 'gender', 0.2)"
      ],
      "metadata": {
        "id": "Ll-xlHZ8TeLN"
      },
      "execution_count": 214,
      "outputs": []
    },
    {
      "cell_type": "markdown",
      "source": [
        "### 30%"
      ],
      "metadata": {
        "id": "A-7YMbxbURMM"
      }
    },
    {
      "cell_type": "code",
      "source": [
        "Dorm_30_lp, Dorm_30_lpbk, Dorm_30_index, Dorm_30_percentage = complete_propagation(Duke, 'dorm', 0.3)"
      ],
      "metadata": {
        "id": "8e2fNlJqT6wI"
      },
      "execution_count": 215,
      "outputs": []
    },
    {
      "cell_type": "code",
      "source": [
        "Major_30_lp, Major_30_lpbk, Major_30_index, Major_30_percentage = complete_propagation(Duke, 'major_index', 0.3)"
      ],
      "metadata": {
        "id": "ivtGz2dyUWfC"
      },
      "execution_count": 216,
      "outputs": []
    },
    {
      "cell_type": "code",
      "source": [
        "Gender_30_lp, Gender_30_lpbk, Gender_30_index, Gender_30_percentage = complete_propagation(Duke, 'gender', 0.3)"
      ],
      "metadata": {
        "id": "wilfFseqUzQo"
      },
      "execution_count": 217,
      "outputs": []
    },
    {
      "cell_type": "markdown",
      "source": [
        "### (d) For each case of the following percentage of missing attributes: 10%, 20% and 30% and for each of the following attributes: the ”dorm”, ”major”, ”gender” show the mean absolute error and accuracy score of the label propagation algorithm as in the example provided in Table 1 for the Duke University Facebook network.\n"
      ],
      "metadata": {
        "id": "hwP8swbxVmby"
      }
    },
    {
      "cell_type": "markdown",
      "source": [
        "The following function get the acurracy, receives as parameter the predicted matrix, the copy of the label, the initial value and the percentage."
      ],
      "metadata": {
        "id": "rZtKnJyXWzCS"
      }
    },
    {
      "cell_type": "code",
      "source": [
        "def get_accuracy(label_predict, label_backup, index, per):\n",
        "  labels_id = (label_backup.sum(axis=1) == 1)\n",
        "  prom = 0\n",
        "  count = index\n",
        "  tot = 0\n",
        "\n",
        "  while (count < (per + index)):\n",
        "    if (labels_id[count]):\n",
        "      tot = tot + 1\n",
        "      acc = 0\n",
        "      greater_val = 0\n",
        "      for value in label_backup[count]:\n",
        "        if value != 0:\n",
        "          break;\n",
        "        acc = acc + 1\n",
        "      for value in label_predict[count]:\n",
        "        if value > greater_val:\n",
        "          greater_val = value\n",
        "      if (label_predict[count][acc] >= (1 /(len(label_predict[count]) -1)) and label_predict[count][acc] >= greater_val):\n",
        "        prom = prom + 1\n",
        "    count = count + 1\n",
        "  return prom/tot"
      ],
      "metadata": {
        "id": "NBatJNxnVKi6"
      },
      "execution_count": 218,
      "outputs": []
    },
    {
      "cell_type": "markdown",
      "source": [
        "### 10%"
      ],
      "metadata": {
        "id": "xg-1XQp6XCDn"
      }
    },
    {
      "cell_type": "code",
      "source": [
        "Dorm_10_accuracy = get_accuracy(Dorm_10_lp, Dorm_10_lpbk, Dorm_10_index, Dorm_10_percentage)\n",
        "print(\"Accuracy : \", Dorm_10_accuracy)\n",
        "\n",
        "# Mean Absolute Error\n",
        "labels_id = (Dorm_10_lpbk.sum(axis=1) == 1)\n",
        "print('Mean Absolute Error: ')\n",
        "mean_absolute_error(Dorm_10_lpbk[labels_id], Dorm_10_lp[labels_id])"
      ],
      "metadata": {
        "colab": {
          "base_uri": "https://localhost:8080/"
        },
        "id": "sTOo9y10W2OB",
        "outputId": "85fc0315-c0e3-4326-f49e-5aab041fe2a6"
      },
      "execution_count": 219,
      "outputs": [
        {
          "output_type": "stream",
          "name": "stdout",
          "text": [
            "Accuracy :  0.5276595744680851\n",
            "Mean Absolute Error: \n"
          ]
        },
        {
          "output_type": "execute_result",
          "data": {
            "text/plain": [
              "0.0016751861605842331"
            ]
          },
          "metadata": {},
          "execution_count": 219
        }
      ]
    },
    {
      "cell_type": "code",
      "source": [
        "Major_10_accuracy = get_accuracy(Major_10_lp, Major_10_lpbk, Major_10_index, Major_10_percentage)\n",
        "print(\"Accuracy : \", Major_10_accuracy)\n",
        "\n",
        "# Mean Absolute Error\n",
        "labels_id = (Major_10_lpbk.sum(axis=1) == 1)\n",
        "print('Mean Absolute Error: ')\n",
        "mean_absolute_error(Major_10_lpbk[labels_id], Major_10_lp[labels_id])"
      ],
      "metadata": {
        "colab": {
          "base_uri": "https://localhost:8080/"
        },
        "id": "mWfeoW3hYAyU",
        "outputId": "643d3334-5a1d-4de2-948c-525443061f2b"
      },
      "execution_count": 221,
      "outputs": [
        {
          "output_type": "stream",
          "name": "stdout",
          "text": [
            "Accuracy :  0.26962025316455696\n",
            "Mean Absolute Error: \n"
          ]
        },
        {
          "output_type": "execute_result",
          "data": {
            "text/plain": [
              "0.003294168266075945"
            ]
          },
          "metadata": {},
          "execution_count": 221
        }
      ]
    },
    {
      "cell_type": "code",
      "source": [
        "Gender_10_accuracy = get_accuracy(Gender_10_lp, Gender_10_lpbk, Gender_10_index, Gender_10_percentage)\n",
        "print(\"Accuracy : \", Gender_10_accuracy)\n",
        "\n",
        "# Mean Absolute Error\n",
        "labels_id = (Gender_10_lpbk.sum(axis=1) == 1)\n",
        "print('Mean Absolute Error: ')\n",
        "mean_absolute_error(Gender_10_lpbk[labels_id], Gender_10_lp[labels_id])"
      ],
      "metadata": {
        "colab": {
          "base_uri": "https://localhost:8080/"
        },
        "id": "IE_j6tNqYgrs",
        "outputId": "f9a148a4-c5b8-4670-97c2-2a65b35583dc"
      },
      "execution_count": 222,
      "outputs": [
        {
          "output_type": "stream",
          "name": "stdout",
          "text": [
            "Accuracy :  0.6723356009070295\n",
            "Mean Absolute Error: \n"
          ]
        },
        {
          "output_type": "execute_result",
          "data": {
            "text/plain": [
              "0.032398749577001645"
            ]
          },
          "metadata": {},
          "execution_count": 222
        }
      ]
    },
    {
      "cell_type": "markdown",
      "source": [
        "### 20%"
      ],
      "metadata": {
        "id": "eQSm8FnWZOIl"
      }
    },
    {
      "cell_type": "code",
      "source": [
        "Dorm_20_accuracy = get_accuracy(Dorm_20_lp, Dorm_20_lpbk, Dorm_20_index, Dorm_20_percentage)\n",
        "print(\"Accuracy : \", Dorm_20_accuracy)\n",
        "\n",
        "# Mean Absolute Error\n",
        "labels_id = (Dorm_20_lpbk.sum(axis=1) == 1)\n",
        "print('Mean Absolute Error: ')\n",
        "mean_absolute_error(Dorm_20_lpbk[labels_id], Dorm_20_lp[labels_id])"
      ],
      "metadata": {
        "colab": {
          "base_uri": "https://localhost:8080/"
        },
        "id": "nEIG-930ZHTL",
        "outputId": "f8de6f0b-8fb1-465b-e857-cb95bc1f366a"
      },
      "execution_count": 223,
      "outputs": [
        {
          "output_type": "stream",
          "name": "stdout",
          "text": [
            "Accuracy :  0.5014184397163121\n",
            "Mean Absolute Error: \n"
          ]
        },
        {
          "output_type": "execute_result",
          "data": {
            "text/plain": [
              "0.003432761129857053"
            ]
          },
          "metadata": {},
          "execution_count": 223
        }
      ]
    },
    {
      "cell_type": "code",
      "source": [
        "Major_20_accuracy = get_accuracy(Major_20_lp, Major_20_lpbk, Major_20_index, Major_20_percentage)\n",
        "print(\"Accuracy : \", Major_20_accuracy)\n",
        "\n",
        "# Mean Absolute Error\n",
        "labels_id = (Major_20_lpbk.sum(axis=1) == 1)\n",
        "print('Mean Absolute Error: ')\n",
        "mean_absolute_error(Major_20_lpbk[labels_id], Major_20_lp[labels_id])"
      ],
      "metadata": {
        "colab": {
          "base_uri": "https://localhost:8080/"
        },
        "id": "-wg7apJUZXDE",
        "outputId": "e83ed2f9-4301-449d-ff10-db6e85c7f3f0"
      },
      "execution_count": 224,
      "outputs": [
        {
          "output_type": "stream",
          "name": "stdout",
          "text": [
            "Accuracy :  0.2625482625482625\n",
            "Mean Absolute Error: \n"
          ]
        },
        {
          "output_type": "execute_result",
          "data": {
            "text/plain": [
              "0.0065795378527162525"
            ]
          },
          "metadata": {},
          "execution_count": 224
        }
      ]
    },
    {
      "cell_type": "code",
      "source": [
        "Gender_20_accuracy = get_accuracy(Gender_20_lp, Gender_20_lpbk, Gender_20_index, Gender_20_percentage)\n",
        "print(\"Accuracy : \", Gender_20_accuracy)\n",
        "\n",
        "# Mean Absolute Error\n",
        "labels_id = (Gender_20_lpbk.sum(axis=1) == 1)\n",
        "print('Mean Absolute Error: ')\n",
        "mean_absolute_error(Gender_20_lpbk[labels_id], Gender_20_lp[labels_id])"
      ],
      "metadata": {
        "colab": {
          "base_uri": "https://localhost:8080/"
        },
        "id": "gmMm1MQoZh1N",
        "outputId": "3be7f23d-eb8e-4388-d2af-d20cf9d24741"
      },
      "execution_count": 225,
      "outputs": [
        {
          "output_type": "stream",
          "name": "stdout",
          "text": [
            "Accuracy :  0.6727172717271728\n",
            "Mean Absolute Error: \n"
          ]
        },
        {
          "output_type": "execute_result",
          "data": {
            "text/plain": [
              "0.06499074567397807"
            ]
          },
          "metadata": {},
          "execution_count": 225
        }
      ]
    },
    {
      "cell_type": "markdown",
      "source": [
        "### 30%"
      ],
      "metadata": {
        "id": "Eg57JpPBZyk2"
      }
    },
    {
      "cell_type": "code",
      "source": [
        "Dorm_30_accuracy = get_accuracy(Dorm_30_lp, Dorm_30_lpbk, Dorm_30_index, Dorm_30_percentage)\n",
        "print(\"Accuracy : \", Dorm_30_accuracy)\n",
        "\n",
        "# Mean Absolute Error\n",
        "labels_id = (Dorm_30_lpbk.sum(axis=1) == 1)\n",
        "print('Mean Absolute Error: ')\n",
        "mean_absolute_error(Dorm_30_lpbk[labels_id], Dorm_30_lp[labels_id])"
      ],
      "metadata": {
        "colab": {
          "base_uri": "https://localhost:8080/"
        },
        "id": "UBrjPGXdZtyW",
        "outputId": "d4e964d3-0d0b-4d25-d2c6-3587753f406e"
      },
      "execution_count": 226,
      "outputs": [
        {
          "output_type": "stream",
          "name": "stdout",
          "text": [
            "Accuracy :  0.49834358731661144\n",
            "Mean Absolute Error: \n"
          ]
        },
        {
          "output_type": "execute_result",
          "data": {
            "text/plain": [
              "0.005250074507697139"
            ]
          },
          "metadata": {},
          "execution_count": 226
        }
      ]
    },
    {
      "cell_type": "code",
      "source": [
        "Major_30_accuracy = get_accuracy(Major_30_lp, Major_30_lpbk, Major_30_index, Major_30_percentage)\n",
        "print(\"Accuracy : \", Major_30_accuracy)\n",
        "\n",
        "# Mean Absolute Error\n",
        "labels_id = (Major_30_lpbk.sum(axis=1) == 1)\n",
        "print('Mean Absolute Error: ')\n",
        "mean_absolute_error(Major_30_lpbk[labels_id], Major_30_lp[labels_id])"
      ],
      "metadata": {
        "colab": {
          "base_uri": "https://localhost:8080/"
        },
        "id": "1WUrhDb0aSib",
        "outputId": "225b86a6-ce30-4b2e-f55a-7eebc90819fc"
      },
      "execution_count": 227,
      "outputs": [
        {
          "output_type": "stream",
          "name": "stdout",
          "text": [
            "Accuracy :  0.24895920066611157\n",
            "Mean Absolute Error: \n"
          ]
        },
        {
          "output_type": "execute_result",
          "data": {
            "text/plain": [
              "0.009959803998076869"
            ]
          },
          "metadata": {},
          "execution_count": 227
        }
      ]
    },
    {
      "cell_type": "code",
      "source": [
        "Gender_30_accuracy = get_accuracy(Gender_30_lp, Gender_30_lpbk, Gender_30_index, Gender_30_percentage)\n",
        "print(\"Accuracy : \", Gender_30_accuracy)\n",
        "\n",
        "# Mean Absolute Error\n",
        "labels_id = (Gender_30_lpbk.sum(axis=1) == 1)\n",
        "print('Mean Absolute Error: ')\n",
        "mean_absolute_error(Gender_30_lpbk[labels_id], Gender_30_lp[labels_id])"
      ],
      "metadata": {
        "colab": {
          "base_uri": "https://localhost:8080/"
        },
        "id": "HhuMHkuxah4f",
        "outputId": "8080d449-e54d-4c95-8bd4-eeca70ce1257"
      },
      "execution_count": 228,
      "outputs": [
        {
          "output_type": "stream",
          "name": "stdout",
          "text": [
            "Accuracy :  0.6747341400806748\n",
            "Mean Absolute Error: \n"
          ]
        },
        {
          "output_type": "execute_result",
          "data": {
            "text/plain": [
              "0.09990151249014423"
            ]
          },
          "metadata": {},
          "execution_count": 228
        }
      ]
    },
    {
      "cell_type": "markdown",
      "source": [
        "### (e) Conclude on the accuracy of the label propagation algorithm for different labels, could you explain why is there such difference in the accuracy between each type of label ?\n"
      ],
      "metadata": {
        "id": "Qm5FRtW7a5ER"
      }
    },
    {
      "cell_type": "code",
      "source": [
        "print(\"Fraction Removed\\n\")\n",
        "print(\"10% of Fraction Removed\")\n",
        "print(\"Major: \", Major_10_accuracy)\n",
        "print(\"Dorm: \", Dorm_10_accuracy)\n",
        "print(\"Gender: \", Gender_10_accuracy,\"\\n\")\n",
        "print(\"20% of Fraction Removed\")\n",
        "print(\"Major: \", Major_20_accuracy)\n",
        "print(\"Dorm: \", Dorm_20_accuracy)\n",
        "print(\"Gender: \", Gender_20_accuracy,\"\\n\")\n",
        "print(\"30% of Fraction Removed\")\n",
        "print(\"Major: \", Major_30_accuracy)\n",
        "print(\"Dorm: \", Dorm_30_accuracy)\n",
        "print(\"Gender: \", Gender_30_accuracy,\"\\n\")\n"
      ],
      "metadata": {
        "colab": {
          "base_uri": "https://localhost:8080/"
        },
        "id": "KuYTcyaXawmF",
        "outputId": "4e62fadd-e225-439a-976d-7a9d7757e2c3"
      },
      "execution_count": 230,
      "outputs": [
        {
          "output_type": "stream",
          "name": "stdout",
          "text": [
            "Fraction Removed\n",
            "\n",
            "10% of Fraction Removed\n",
            "Major:  0.26962025316455696\n",
            "Dorm:  0.5276595744680851\n",
            "Gender:  0.6723356009070295 \n",
            "\n",
            "20% of Fraction Removed\n",
            "Major:  0.2625482625482625\n",
            "Dorm:  0.5014184397163121\n",
            "Gender:  0.6727172717271728 \n",
            "\n",
            "30% of Fraction Removed\n",
            "Major:  0.24895920066611157\n",
            "Dorm:  0.49834358731661144\n",
            "Gender:  0.6747341400806748 \n",
            "\n"
          ]
        }
      ]
    },
    {
      "cell_type": "markdown",
      "source": [
        "### Analysis"
      ],
      "metadata": {
        "id": "B0eGFZ0VkZr9"
      }
    },
    {
      "cell_type": "markdown",
      "source": [
        "With the data obtained we can see that the algorithm depends on the labels and how much data with labels we have. When the Gender attribute labels were predicted, the algorithm was efficient because only two labels could be predicted: Male or Female. However, it lost precision when it had to predict more labels in other attributes. I can also conclude that as it has more data it becomes more accurate. When the algorithm had more information about the connections between people, it improved its predictions. The mean absolute error and the precision of both decrease as the percentage of missing values ​​increases, giving evidence of the above."
      ],
      "metadata": {
        "id": "R5j_reN2kg3W"
      }
    }
  ]
}